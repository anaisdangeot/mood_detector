{
 "cells": [
  {
   "cell_type": "code",
   "execution_count": 33,
   "metadata": {},
   "outputs": [
    {
     "data": {
      "text/plain": [
       "0.366"
      ]
     },
     "execution_count": 33,
     "metadata": {},
     "output_type": "execute_result"
    }
   ],
   "source": [
    "import os\n",
    "import base64\n",
    "import requests\n",
    "from requests import post\n",
    "import json\n",
    "import spotifysearch\n",
    "from googletrans import Translator\n",
    "client_id = os.environ.get(\"CLIENT_ID\")\n",
    "client_secret = os.environ.get(\"CLIENT_SECRET\")\n",
    "\n",
    "def get_token():\n",
    "    auth_string = client_id + \":\" + client_secret\n",
    "    auth_bytes = auth_string.encode('utf-8')\n",
    "    auth_base64 = str(base64.b64encode(auth_bytes),\"utf-8\")\n",
    "\n",
    "    url= \"https://accounts.spotify.com/api/token\"\n",
    "    headers ={\n",
    "    \"Authorization\": \"Basic \" + auth_base64,\n",
    "    \"Content-Type\": \"application/x-www-form-urlencoded\"\n",
    "}\n",
    "\n",
    "    data ={\"grant_type\":\"client_credentials\"}\n",
    "    result = post(url,headers=headers,data=data)\n",
    "    json_result = json.loads(result.content)\n",
    "    token =json_result[\"access_token\"]\n",
    "    return token\n",
    "\n",
    "def get_auth_header(token):\n",
    "    return {\"Authorization\":\"Bearer\" + token}\n",
    "\n",
    "url = \"https://api.spotify.com/v1/audio-features\"\n",
    "token = get_token()\n",
    "headers = {\n",
    "    \"Authorization\": \"Bearer \" + token\n",
    "    }\n",
    "params = {\n",
    "    'ids': '7ouMYWpwJ422jRcDASZB7P'\n",
    "    }\n",
    "response = requests.get(url, headers=headers, params=params)\n",
    "json_response = json.loads(response.text)\n",
    "audio_feat = json_response['audio_features']\n",
    "audio_feat[0]\n",
    "\n",
    "danceability = audio_feat[0]['danceability']\n",
    "energy = audio_feat[0]['energy']\n",
    "key = audio_feat[0]['key']\n",
    "mode = audio_feat[0]['mode']\n",
    "speechiness = audio_feat[0]['speechiness']\n",
    "instrumentalness = audio_feat[0]['instrumentalness']\n",
    "liveness = audio_feat[0]['liveness']\n",
    "tempo = audio_feat[0]['tempo']\n",
    "time_signature = audio_feat[0]['time_signature']\n",
    "duration_ms = audio_feat[0]['duration_ms']\n",
    "danceability"
   ]
  },
  {
   "cell_type": "code",
   "execution_count": 32,
   "metadata": {},
   "outputs": [
    {
     "data": {
      "text/plain": [
       "False"
      ]
     },
     "execution_count": 32,
     "metadata": {},
     "output_type": "execute_result"
    }
   ],
   "source": [
    "url = 'https://api.spotify.com/v1/tracks/'\n",
    "token = get_token()\n",
    "headers = {\n",
    "    \"Authorization\": \"Bearer \" + token\n",
    "    }\n",
    "params = {\n",
    "    'ids': '7ouMYWpwJ422jRcDASZB7P'\n",
    "    }\n",
    "response = requests.get(url, headers=headers, params=params)\n",
    "json_response = json.loads(response.text)\n",
    "popularity = json_response['tracks'][0]['popularity']\n",
    "explicit = json_response['tracks'][0]['explicit']\n",
    "explicit"
   ]
  }
 ],
 "metadata": {
  "kernelspec": {
   "display_name": "mood_detector",
   "language": "python",
   "name": "python3"
  },
  "language_info": {
   "codemirror_mode": {
    "name": "ipython",
    "version": 3
   },
   "file_extension": ".py",
   "mimetype": "text/x-python",
   "name": "python",
   "nbconvert_exporter": "python",
   "pygments_lexer": "ipython3",
   "version": "3.10.6"
  },
  "orig_nbformat": 4
 },
 "nbformat": 4,
 "nbformat_minor": 2
}
